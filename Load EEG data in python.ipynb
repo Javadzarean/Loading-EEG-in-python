{
 "cells": [
  {
   "cell_type": "code",
   "execution_count": null,
   "metadata": {},
   "outputs": [],
   "source": [
    "import mne\n",
    "import numpy as np\n",
    "import tensorflow as tf\n",
    "from tensorflow.keras.models import Sequential\n",
    "from tensorflow.keras.layers import Conv2D, MaxPooling2D, Dropout, LSTM, Dense, Flatten\n",
    "\n",
    "# Set the path to the dataset\n",
    "data_path = '/path/to/dataset'\n",
    "\n",
    "# Download the dataset from PhysioNet\n",
    "mne.datasets.physionet_motor_imagery.load_data(subjects=list(range(1, 110)))\n",
    "\n",
    "# Loop over all subjects and tasks\n",
    "for subject in range(1, 110):\n",
    "    for task in range(1, 4):\n",
    "        # Load the dataset using MNE\n",
    "        raw = mne.io.read_raw_edf(os.path.join(data_path, f'S{subject:03}R{task:02}.edf'), preload=True)\n",
    "        events, _ = mne.events_from_annotations(raw)\n",
    "        epochs = mne.Epochs(raw, events, tmin=0, tmax=4, baseline=None, event_id={'left': 1, 'right': 2})\n",
    "\n",
    "        # Get the data and labels from the epochs\n",
    "        data = epochs.get_data()\n",
    "        labels = epochs.events[:, -1] - 1\n",
    "\n",
    "        # Reshape the data to fit the CNN-LSTM model\n",
    "        data = data.reshape((data.shape[0], 1, data.shape[1], data.shape[2]))\n",
    "\n",
    "        # Define the CNN-LSTM model\n",
    "        model = Sequential()\n",
    "        model.add(Conv2D(32, (3, 3), activation='relu', input_shape=(1, data.shape[2], data.shape[3])))\n",
    "        model.add(MaxPooling2D((2, 2)))\n",
    "        model.add(Dropout(0.25))\n",
    "        model.add(Flatten())\n",
    "        model.add(LSTM(64, return_sequences=True))\n",
    "        model.add(Dropout(0.5))\n",
    "        model.add(Dense(2, activation='softmax'))\n",
    "\n",
    "        # Compile the model\n",
    "        model.compile(optimizer='adam', loss='sparse_categorical_crossentropy', metrics=['accuracy'])\n",
    "\n",
    "        # Train the model\n",
    "        model.fit(data, labels, epochs=10, batch_size=32, validation_split=0.2)\n",
    "\n",
    "        # Evaluate the model\n",
    "        test_loss, test_acc = model.evaluate(data, labels)\n",
    "        print(f'Subject {subject}, Task {task}: Test accuracy = {test_acc}')\n",
    "        \n",
    "        \n"
   ]
  }
 ],
 "metadata": {
  "kernelspec": {
   "display_name": "Python 3",
   "language": "python",
   "name": "python3"
  },
  "language_info": {
   "codemirror_mode": {
    "name": "ipython",
    "version": 3
   },
   "file_extension": ".py",
   "mimetype": "text/x-python",
   "name": "python",
   "nbconvert_exporter": "python",
   "pygments_lexer": "ipython3",
   "version": "3.8.3"
  }
 },
 "nbformat": 4,
 "nbformat_minor": 4
}
